{
 "cells": [
  {
   "cell_type": "markdown",
   "metadata": {},
   "source": [
    "## Deliverable 3. Create a Travel Itinerary Map."
   ]
  },
  {
   "cell_type": "code",
   "execution_count": 46,
   "metadata": {},
   "outputs": [],
   "source": [
    "# Dependencies and Setup\n",
    "import pandas as pd\n",
    "import requests\n",
    "import gmaps\n",
    "\n",
    "# Import API key\n",
    "from config import g_key\n",
    "\n",
    "# Configure gmaps\n",
    "gmaps.configure(api_key=g_key)"
   ]
  },
  {
   "cell_type": "code",
   "execution_count": 50,
   "metadata": {},
   "outputs": [
    {
     "data": {
      "text/html": [
       "<div>\n",
       "<style scoped>\n",
       "    .dataframe tbody tr th:only-of-type {\n",
       "        vertical-align: middle;\n",
       "    }\n",
       "\n",
       "    .dataframe tbody tr th {\n",
       "        vertical-align: top;\n",
       "    }\n",
       "\n",
       "    .dataframe thead th {\n",
       "        text-align: right;\n",
       "    }\n",
       "</style>\n",
       "<table border=\"1\" class=\"dataframe\">\n",
       "  <thead>\n",
       "    <tr style=\"text-align: right;\">\n",
       "      <th></th>\n",
       "      <th>City_ID</th>\n",
       "      <th>City</th>\n",
       "      <th>Country</th>\n",
       "      <th>Max Temp</th>\n",
       "      <th>Current Description</th>\n",
       "      <th>Lat</th>\n",
       "      <th>Lng</th>\n",
       "      <th>Hotel Name</th>\n",
       "    </tr>\n",
       "  </thead>\n",
       "  <tbody>\n",
       "    <tr>\n",
       "      <th>0</th>\n",
       "      <td>4</td>\n",
       "      <td>Ugoofaaru</td>\n",
       "      <td>MV</td>\n",
       "      <td>83.48</td>\n",
       "      <td>clear sky</td>\n",
       "      <td>5.67</td>\n",
       "      <td>73.00</td>\n",
       "      <td>Ungoofaaru Inn</td>\n",
       "    </tr>\n",
       "    <tr>\n",
       "      <th>1</th>\n",
       "      <td>7</td>\n",
       "      <td>Senanga</td>\n",
       "      <td>ZM</td>\n",
       "      <td>76.10</td>\n",
       "      <td>broken clouds</td>\n",
       "      <td>-16.12</td>\n",
       "      <td>23.27</td>\n",
       "      <td>Christopher Nasilele House</td>\n",
       "    </tr>\n",
       "    <tr>\n",
       "      <th>2</th>\n",
       "      <td>15</td>\n",
       "      <td>Victoria</td>\n",
       "      <td>HK</td>\n",
       "      <td>84.00</td>\n",
       "      <td>light rain</td>\n",
       "      <td>22.29</td>\n",
       "      <td>114.16</td>\n",
       "      <td>Mini Hotel Central</td>\n",
       "    </tr>\n",
       "    <tr>\n",
       "      <th>3</th>\n",
       "      <td>16</td>\n",
       "      <td>Inongo</td>\n",
       "      <td>CD</td>\n",
       "      <td>75.16</td>\n",
       "      <td>overcast clouds</td>\n",
       "      <td>-1.95</td>\n",
       "      <td>18.27</td>\n",
       "      <td>Hotel Du Lac</td>\n",
       "    </tr>\n",
       "    <tr>\n",
       "      <th>4</th>\n",
       "      <td>23</td>\n",
       "      <td>Bousse</td>\n",
       "      <td>BF</td>\n",
       "      <td>83.34</td>\n",
       "      <td>broken clouds</td>\n",
       "      <td>12.66</td>\n",
       "      <td>-1.89</td>\n",
       "      <td>Maison d'hôtes EBEN-EZER DE BOUSSE</td>\n",
       "    </tr>\n",
       "    <tr>\n",
       "      <th>...</th>\n",
       "      <td>...</td>\n",
       "      <td>...</td>\n",
       "      <td>...</td>\n",
       "      <td>...</td>\n",
       "      <td>...</td>\n",
       "      <td>...</td>\n",
       "      <td>...</td>\n",
       "      <td>...</td>\n",
       "    </tr>\n",
       "    <tr>\n",
       "      <th>200</th>\n",
       "      <td>501</td>\n",
       "      <td>Coruche</td>\n",
       "      <td>PT</td>\n",
       "      <td>84.99</td>\n",
       "      <td>clear sky</td>\n",
       "      <td>38.96</td>\n",
       "      <td>-8.53</td>\n",
       "      <td>Luxury villa nearby Alentejo</td>\n",
       "    </tr>\n",
       "    <tr>\n",
       "      <th>201</th>\n",
       "      <td>508</td>\n",
       "      <td>Rabo De Peixe</td>\n",
       "      <td>PT</td>\n",
       "      <td>77.00</td>\n",
       "      <td>scattered clouds</td>\n",
       "      <td>37.80</td>\n",
       "      <td>-25.58</td>\n",
       "      <td>Quinta das Giestas</td>\n",
       "    </tr>\n",
       "    <tr>\n",
       "      <th>202</th>\n",
       "      <td>509</td>\n",
       "      <td>Seminole</td>\n",
       "      <td>US</td>\n",
       "      <td>86.00</td>\n",
       "      <td>moderate rain</td>\n",
       "      <td>28.71</td>\n",
       "      <td>-81.21</td>\n",
       "      <td>WHITNEY-WOLCOTT HOUSE ON LAKE CHARM</td>\n",
       "    </tr>\n",
       "    <tr>\n",
       "      <th>203</th>\n",
       "      <td>510</td>\n",
       "      <td>Kati</td>\n",
       "      <td>ML</td>\n",
       "      <td>86.00</td>\n",
       "      <td>broken clouds</td>\n",
       "      <td>12.74</td>\n",
       "      <td>-8.07</td>\n",
       "      <td>AUBERGE DIATIGUIYA</td>\n",
       "    </tr>\n",
       "    <tr>\n",
       "      <th>204</th>\n",
       "      <td>512</td>\n",
       "      <td>Zurrieq</td>\n",
       "      <td>MT</td>\n",
       "      <td>84.00</td>\n",
       "      <td>few clouds</td>\n",
       "      <td>35.83</td>\n",
       "      <td>14.47</td>\n",
       "      <td>Ta' Bertu Host Family Bed &amp; Breakfast</td>\n",
       "    </tr>\n",
       "  </tbody>\n",
       "</table>\n",
       "<p>205 rows × 8 columns</p>\n",
       "</div>"
      ],
      "text/plain": [
       "     City_ID           City Country  Max Temp Current Description    Lat  \\\n",
       "0          4      Ugoofaaru      MV     83.48           clear sky   5.67   \n",
       "1          7        Senanga      ZM     76.10       broken clouds -16.12   \n",
       "2         15       Victoria      HK     84.00          light rain  22.29   \n",
       "3         16         Inongo      CD     75.16     overcast clouds  -1.95   \n",
       "4         23         Bousse      BF     83.34       broken clouds  12.66   \n",
       "..       ...            ...     ...       ...                 ...    ...   \n",
       "200      501        Coruche      PT     84.99           clear sky  38.96   \n",
       "201      508  Rabo De Peixe      PT     77.00    scattered clouds  37.80   \n",
       "202      509       Seminole      US     86.00       moderate rain  28.71   \n",
       "203      510           Kati      ML     86.00       broken clouds  12.74   \n",
       "204      512        Zurrieq      MT     84.00          few clouds  35.83   \n",
       "\n",
       "        Lng                             Hotel Name  \n",
       "0     73.00                         Ungoofaaru Inn  \n",
       "1     23.27             Christopher Nasilele House  \n",
       "2    114.16                     Mini Hotel Central  \n",
       "3     18.27                           Hotel Du Lac  \n",
       "4     -1.89     Maison d'hôtes EBEN-EZER DE BOUSSE  \n",
       "..      ...                                    ...  \n",
       "200   -8.53           Luxury villa nearby Alentejo  \n",
       "201  -25.58                     Quinta das Giestas  \n",
       "202  -81.21    WHITNEY-WOLCOTT HOUSE ON LAKE CHARM  \n",
       "203   -8.07                     AUBERGE DIATIGUIYA  \n",
       "204   14.47  Ta' Bertu Host Family Bed & Breakfast  \n",
       "\n",
       "[205 rows x 8 columns]"
      ]
     },
     "execution_count": 50,
     "metadata": {},
     "output_type": "execute_result"
    }
   ],
   "source": [
    "# 1. Read the WeatherPy_vacation.csv into a DataFrame.\n",
    "vacation_df = pd.read_csv(\"../Vacation_Search/WeatherPy_vacation.csv\")\n",
    "vacation_df.head(205)"
   ]
  },
  {
   "cell_type": "code",
   "execution_count": 3,
   "metadata": {},
   "outputs": [],
   "source": [
    "# 2. Using the template add the city name, the country code, the weather description and maximum temperature for the city.\n",
    "info_box_template = \"\"\"\n",
    "<dl>\n",
    "<dt>City</dt><dd>{City}</dd>\n",
    "<dt>Country</dt><dd>{Country}</dd>\n",
    "<dt>Current Weather and Max Temp</dt><dd>{Max Temp} °F</dd>\n",
    "</dl>\n",
    "\"\"\"\n",
    "# 3a. Get the data from each row and add it to the formatting template and store the data in a list.\n",
    "info_df = [info_box_template.format(**row) for index, row in vacation_df.iterrows()]\n",
    "\n",
    "# 3b. Get the latitude and longitude from each row and store in a new DataFrame.\n",
    "locations = vacation_df[[\"Lat\", \"Lng\"]]"
   ]
  },
  {
   "cell_type": "code",
   "execution_count": 4,
   "metadata": {},
   "outputs": [
    {
     "data": {
      "application/vnd.jupyter.widget-view+json": {
       "model_id": "926dc069d9ff4116b89482469ed3fc30",
       "version_major": 2,
       "version_minor": 0
      },
      "text/plain": [
       "Figure(layout=FigureLayout(height='420px'))"
      ]
     },
     "metadata": {},
     "output_type": "display_data"
    }
   ],
   "source": [
    "# 4a. Add a marker layer for each city to the map.\n",
    "fig = gmaps.figure(center=(30.0, 31.0), zoom_level=1.5)\n",
    "marker_layer = gmaps.marker_layer(locations, info_box_content=info_df)\n",
    "fig.add_layer(marker_layer)\n",
    "# 4b. Display the figure\n",
    "fig"
   ]
  },
  {
   "cell_type": "code",
   "execution_count": 55,
   "metadata": {},
   "outputs": [
    {
     "data": {
      "text/html": [
       "<div>\n",
       "<style scoped>\n",
       "    .dataframe tbody tr th:only-of-type {\n",
       "        vertical-align: middle;\n",
       "    }\n",
       "\n",
       "    .dataframe tbody tr th {\n",
       "        vertical-align: top;\n",
       "    }\n",
       "\n",
       "    .dataframe thead th {\n",
       "        text-align: right;\n",
       "    }\n",
       "</style>\n",
       "<table border=\"1\" class=\"dataframe\">\n",
       "  <thead>\n",
       "    <tr style=\"text-align: right;\">\n",
       "      <th></th>\n",
       "      <th>City_ID</th>\n",
       "      <th>City</th>\n",
       "      <th>Country</th>\n",
       "      <th>Max Temp</th>\n",
       "      <th>Current Description</th>\n",
       "      <th>Lat</th>\n",
       "      <th>Lng</th>\n",
       "      <th>Hotel Name</th>\n",
       "    </tr>\n",
       "  </thead>\n",
       "  <tbody>\n",
       "    <tr>\n",
       "      <th>202</th>\n",
       "      <td>509</td>\n",
       "      <td>Seminole</td>\n",
       "      <td>US</td>\n",
       "      <td>86.0</td>\n",
       "      <td>moderate rain</td>\n",
       "      <td>28.71</td>\n",
       "      <td>-81.21</td>\n",
       "      <td>WHITNEY-WOLCOTT HOUSE ON LAKE CHARM</td>\n",
       "    </tr>\n",
       "  </tbody>\n",
       "</table>\n",
       "</div>"
      ],
      "text/plain": [
       "     City_ID      City Country  Max Temp Current Description    Lat    Lng  \\\n",
       "202      509  Seminole      US      86.0       moderate rain  28.71 -81.21   \n",
       "\n",
       "                              Hotel Name  \n",
       "202  WHITNEY-WOLCOTT HOUSE ON LAKE CHARM  "
      ]
     },
     "execution_count": 55,
     "metadata": {},
     "output_type": "execute_result"
    }
   ],
   "source": [
    "# From the map above pick 4 cities and create a vacation itinerary route to travel between the four cities. \n",
    "# 5. Create DataFrames for each city by filtering the 'vacation_df' using the loc method. \n",
    "# Hint: The starting and ending city should be the same city.\n",
    "\n",
    "vacation_start = vacation_df.loc[vacation_df['City'] == 'Seminole']\n",
    "vacation_end = vacation_df.loc[vacation_df['City'] == 'Seminole']\n",
    "vacation_stop1 = vacation_df.loc[vacation_df['City'] == \"Satellite Beach\"]\n",
    "vacation_stop2 = vacation_df.loc[vacation_df['City'] == \"Venice\"]\n",
    "vacation_stop3 = vacation_df.loc[vacation_df['City'] == \"Largo\"]\n",
    "vacation_start"
   ]
  },
  {
   "cell_type": "code",
   "execution_count": 74,
   "metadata": {},
   "outputs": [
    {
     "data": {
      "text/plain": [
       "array([28.71], dtype=object)"
      ]
     },
     "execution_count": 74,
     "metadata": {},
     "output_type": "execute_result"
    }
   ],
   "source": [
    "# 6. Get the latitude-longitude pairs as tuples from each city DataFrame using the to_numpy function and list indexing.\n",
    "start = vacation_start.to_numpy()[0,5:7]\n",
    "end = vacation_end.to_numpy()[0,5:7]\n",
    "stop1 = vacation_stop1.to_numpy()[0,5:7]\n",
    "stop2 = vacation_stop2.to_numpy()[0,5:7]\n",
    "stop3 = vacation_stop3.to_numpy()[0,5:7]\n",
    "start[0:1]"
   ]
  },
  {
   "cell_type": "code",
   "execution_count": 78,
   "metadata": {
    "scrolled": true
   },
   "outputs": [],
   "source": [
    "# 7. Create a direction layer map using the start and end latitude-longitude pairs,\n",
    "# and stop1, stop2, and stop3 as the waypoints. The travel_mode should be \"DRIVING\", \"BICYCLING\", or \"WALKING\".\n",
    "directions = gmaps.directions_layer(start, end, waypoints=[stop1, stop2, stop3])"
   ]
  },
  {
   "cell_type": "code",
   "execution_count": 80,
   "metadata": {},
   "outputs": [
    {
     "data": {
      "text/html": [
       "<div>\n",
       "<style scoped>\n",
       "    .dataframe tbody tr th:only-of-type {\n",
       "        vertical-align: middle;\n",
       "    }\n",
       "\n",
       "    .dataframe tbody tr th {\n",
       "        vertical-align: top;\n",
       "    }\n",
       "\n",
       "    .dataframe thead th {\n",
       "        text-align: right;\n",
       "    }\n",
       "</style>\n",
       "<table border=\"1\" class=\"dataframe\">\n",
       "  <thead>\n",
       "    <tr style=\"text-align: right;\">\n",
       "      <th></th>\n",
       "      <th>City_ID</th>\n",
       "      <th>City</th>\n",
       "      <th>Country</th>\n",
       "      <th>Max Temp</th>\n",
       "      <th>Current Description</th>\n",
       "      <th>Lat</th>\n",
       "      <th>Lng</th>\n",
       "      <th>Hotel Name</th>\n",
       "    </tr>\n",
       "  </thead>\n",
       "  <tbody>\n",
       "    <tr>\n",
       "      <th>0</th>\n",
       "      <td>509</td>\n",
       "      <td>Seminole</td>\n",
       "      <td>US</td>\n",
       "      <td>86.00</td>\n",
       "      <td>moderate rain</td>\n",
       "      <td>28.71</td>\n",
       "      <td>-81.21</td>\n",
       "      <td>WHITNEY-WOLCOTT HOUSE ON LAKE CHARM</td>\n",
       "    </tr>\n",
       "    <tr>\n",
       "      <th>1</th>\n",
       "      <td>509</td>\n",
       "      <td>Seminole</td>\n",
       "      <td>US</td>\n",
       "      <td>86.00</td>\n",
       "      <td>moderate rain</td>\n",
       "      <td>28.71</td>\n",
       "      <td>-81.21</td>\n",
       "      <td>WHITNEY-WOLCOTT HOUSE ON LAKE CHARM</td>\n",
       "    </tr>\n",
       "    <tr>\n",
       "      <th>2</th>\n",
       "      <td>662</td>\n",
       "      <td>Satellite Beach</td>\n",
       "      <td>US</td>\n",
       "      <td>89.01</td>\n",
       "      <td>light rain</td>\n",
       "      <td>28.18</td>\n",
       "      <td>-80.59</td>\n",
       "      <td>Radisson Suite Hotel Oceanfront</td>\n",
       "    </tr>\n",
       "    <tr>\n",
       "      <th>3</th>\n",
       "      <td>245</td>\n",
       "      <td>Venice</td>\n",
       "      <td>US</td>\n",
       "      <td>90.00</td>\n",
       "      <td>scattered clouds</td>\n",
       "      <td>27.10</td>\n",
       "      <td>-82.45</td>\n",
       "      <td>A Beach Retreat</td>\n",
       "    </tr>\n",
       "    <tr>\n",
       "      <th>4</th>\n",
       "      <td>440</td>\n",
       "      <td>Largo</td>\n",
       "      <td>US</td>\n",
       "      <td>90.00</td>\n",
       "      <td>scattered clouds</td>\n",
       "      <td>27.91</td>\n",
       "      <td>-82.79</td>\n",
       "      <td>Hampton Inn &amp; Suites Largo</td>\n",
       "    </tr>\n",
       "  </tbody>\n",
       "</table>\n",
       "</div>"
      ],
      "text/plain": [
       "   City_ID             City Country  Max Temp Current Description    Lat  \\\n",
       "0      509         Seminole      US     86.00       moderate rain  28.71   \n",
       "1      509         Seminole      US     86.00       moderate rain  28.71   \n",
       "2      662  Satellite Beach      US     89.01          light rain  28.18   \n",
       "3      245           Venice      US     90.00    scattered clouds  27.10   \n",
       "4      440            Largo      US     90.00    scattered clouds  27.91   \n",
       "\n",
       "     Lng                           Hotel Name  \n",
       "0 -81.21  WHITNEY-WOLCOTT HOUSE ON LAKE CHARM  \n",
       "1 -81.21  WHITNEY-WOLCOTT HOUSE ON LAKE CHARM  \n",
       "2 -80.59      Radisson Suite Hotel Oceanfront  \n",
       "3 -82.45                      A Beach Retreat  \n",
       "4 -82.79           Hampton Inn & Suites Largo  "
      ]
     },
     "execution_count": 80,
     "metadata": {},
     "output_type": "execute_result"
    }
   ],
   "source": [
    "# 8. To create a marker layer map between the four cities.\n",
    "#  Combine the four city DataFrames into one DataFrame using the concat() function.\n",
    "itinerary_df = pd.concat([vacation_start,vacation_end,vacation_stop1,vacation_stop2,vacation_stop3],ignore_index=True)\n",
    "itinerary_df"
   ]
  },
  {
   "cell_type": "code",
   "execution_count": 88,
   "metadata": {},
   "outputs": [
    {
     "data": {
      "application/vnd.jupyter.widget-view+json": {
       "model_id": "ab5b13946de84f3b83ec0826095fbb7c",
       "version_major": 2,
       "version_minor": 0
      },
      "text/plain": [
       "Figure(layout=FigureLayout(height='420px'))"
      ]
     },
     "metadata": {},
     "output_type": "display_data"
    }
   ],
   "source": [
    "# 9 Using the template add city name, the country code, the weather description and maximum temperature for the city. \n",
    "info_box_template = \"\"\"\n",
    "<dl>\n",
    "<dt>City</dt><dd>{City}</dd>\n",
    "<dt>Country</dt><dd>{Country}</dd>\n",
    "<dt>Current Weather and Max Temp</dt><dd>{Max Temp} °F</dd>\n",
    "</dl>\n",
    "\"\"\"\n",
    "\n",
    "# 10a Get the data from each row and add it to the formatting template and store the data in a list.\n",
    "hotel_info = [info_box_template.format(**row) for index, row in itinerary_df.iterrows()]\n",
    "\n",
    "# 10b. Get the latitude and longitude from each row and store in a new DataFrame.\n",
    "locations = itinerary_df[[\"Lat\", \"Lng\"]]\n",
    "hotel_info"
   ]
  },
  {
   "cell_type": "code",
   "execution_count": 87,
   "metadata": {},
   "outputs": [
    {
     "data": {
      "application/vnd.jupyter.widget-view+json": {
       "model_id": "3b58559dadb84b34bc81e9e23a9e2844",
       "version_major": 2,
       "version_minor": 0
      },
      "text/plain": [
       "Figure(layout=FigureLayout(height='420px'))"
      ]
     },
     "metadata": {},
     "output_type": "display_data"
    }
   ],
   "source": [
    "# 11a. Add a marker layer for each city to the map.\n",
    "fig = gmaps.figure(center=(30.0, 31.0), zoom_level=1.5)\n",
    "marker_layer = gmaps.marker_layer(locations, info_box_content=hotel_info)\n",
    "fig.add_layer(marker_layer)\n",
    "fig.add_layer(directions)\n",
    "\n",
    "# 11b. Display the figure\n",
    "fig"
   ]
  },
  {
   "cell_type": "code",
   "execution_count": null,
   "metadata": {},
   "outputs": [],
   "source": []
  }
 ],
 "metadata": {
  "kernelspec": {
   "display_name": "Python 3",
   "language": "python",
   "name": "python3"
  },
  "language_info": {
   "codemirror_mode": {
    "name": "ipython",
    "version": 3
   },
   "file_extension": ".py",
   "mimetype": "text/x-python",
   "name": "python",
   "nbconvert_exporter": "python",
   "pygments_lexer": "ipython3",
   "version": "3.7.6"
  },
  "latex_envs": {
   "LaTeX_envs_menu_present": true,
   "autoclose": false,
   "autocomplete": true,
   "bibliofile": "biblio.bib",
   "cite_by": "apalike",
   "current_citInitial": 1,
   "eqLabelWithNumbers": true,
   "eqNumInitial": 1,
   "hotkeys": {
    "equation": "Ctrl-E",
    "itemize": "Ctrl-I"
   },
   "labels_anchors": false,
   "latex_user_defs": false,
   "report_style_numbering": false,
   "user_envs_cfg": false
  }
 },
 "nbformat": 4,
 "nbformat_minor": 4
}
